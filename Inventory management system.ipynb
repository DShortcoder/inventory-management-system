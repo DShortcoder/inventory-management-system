{
 "cells": [
  {
   "cell_type": "code",
   "execution_count": 3,
   "id": "acae1f86",
   "metadata": {},
   "outputs": [],
   "source": [
    "\n",
    "fd = open(\"Records1.txt\",\"r\")\n",
    "txt = fd.read()\n",
    "fd.close()"
   ]
  },
  {
   "cell_type": "code",
   "execution_count": 4,
   "id": "1301b0b8",
   "metadata": {},
   "outputs": [
    {
     "name": "stdout",
     "output_type": "stream",
     "text": [
      "Enter the product_Id: 1002\n",
      "Enter the quantity: 3\n"
     ]
    }
   ],
   "source": [
    "\n",
    "products = txt.split(\"\\n\")\n",
    "\n",
    "ui_prod  = str(input(\"Enter the product_Id: \"))\n",
    "ui_quant = input(\"Enter the quantity: \")\n",
    "\n",
    "for product in products:\n",
    "    prod = product.split(\",\")\n",
    "    \n",
    "    \n",
    "    if(prod[0] == ui_prod):\n",
    "        print(\"***********************\")\n",
    "        print(\"Product ID: \", prod[0])\n",
    "        print(\"Name: \", prod[1])\n",
    "        print(\"Price: \",prod[2])\n",
    "        print(\"Quant: \",ui_quant)\n",
    "        print(\"------------------------\")\n",
    "        print(\"Billing Amout: \", ui_quant * int(prod[2])) \n",
    "                                                 \n",
    "                                              \n",
    "        print(\"***********************\")"
   ]
  },
  {
   "cell_type": "code",
   "execution_count": 5,
   "id": "b0bc2cd4",
   "metadata": {},
   "outputs": [],
   "source": [
    "new_record = []\n",
    "\n",
    "for product in products:\n",
    "    prod = product.split(\",\")\n",
    "    if(ui_prod == prod[0]):\n",
    "        prod[3] = str(int(prod[3]) - ui_quant)\n",
    "        \n",
    "    new_record.append(prod[0] + \",\" + prod[1] + \",\" + prod[2] + \",\" + prod[3] + \"\\n\")\n",
    "    \n",
    "new_record[-1] = new_record[-1][:-1]\n"
   ]
  },
  {
   "cell_type": "code",
   "execution_count": 6,
   "id": "67bcee4c",
   "metadata": {},
   "outputs": [],
   "source": [
    "fd = open(\"Records1.txt\", 'w')\n",
    "\n",
    "for i in new_record:\n",
    "    fd.write(i)\n",
    "    \n",
    "fd.close()"
   ]
  },
  {
   "cell_type": "code",
   "execution_count": null,
   "id": "454bfd19",
   "metadata": {},
   "outputs": [],
   "source": []
  },
  {
   "cell_type": "code",
   "execution_count": null,
   "id": "88c5f736",
   "metadata": {},
   "outputs": [],
   "source": []
  }
 ],
 "metadata": {
  "kernelspec": {
   "display_name": "Python 3",
   "language": "python",
   "name": "python3"
  },
  "language_info": {
   "codemirror_mode": {
    "name": "ipython",
    "version": 3
   },
   "file_extension": ".py",
   "mimetype": "text/x-python",
   "name": "python",
   "nbconvert_exporter": "python",
   "pygments_lexer": "ipython3",
   "version": "3.8.8"
  }
 },
 "nbformat": 4,
 "nbformat_minor": 5
}
